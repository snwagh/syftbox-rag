{
 "cells": [
  {
   "cell_type": "code",
   "execution_count": 3,
   "id": "7aa4f7b1-3789-4ff9-a735-05856f221841",
   "metadata": {},
   "outputs": [],
   "source": [
    "from rag_service import client"
   ]
  },
  {
   "cell_type": "code",
   "execution_count": 4,
   "id": "b831ffcd-a5a9-4364-a4e6-379bb7a52dad",
   "metadata": {},
   "outputs": [
    {
     "name": "stderr",
     "output_type": "stream",
     "text": [
      "\u001b[32m2025-04-17 13:52:01.860\u001b[0m | \u001b[1mINFO    \u001b[0m | \u001b[36msyft_rpc_client\u001b[0m:\u001b[36m__init__\u001b[0m:\u001b[36m51\u001b[0m - \u001b[1m🔑 Connected as: alice@openmined.org\u001b[0m\n",
      "\u001b[32m2025-04-17 13:52:01.860\u001b[0m | \u001b[1mINFO    \u001b[0m | \u001b[36msyft_rpc_client\u001b[0m:\u001b[36m_start_server\u001b[0m:\u001b[36m64\u001b[0m - \u001b[1m🔔 Server started for alice@openmined.org\u001b[0m\n",
      "\u001b[32m2025-04-17 13:52:01.861\u001b[0m | \u001b[1mINFO    \u001b[0m | \u001b[36msyft_event.server2\u001b[0m:\u001b[36mregister_rpc\u001b[0m:\u001b[36m142\u001b[0m - \u001b[1mRegister RPC: /models\u001b[0m\n",
      "\u001b[32m2025-04-17 13:52:01.862\u001b[0m | \u001b[1mINFO    \u001b[0m | \u001b[36msyft_rpc_client\u001b[0m:\u001b[36m_run_server\u001b[0m:\u001b[36m69\u001b[0m - \u001b[1m🚀 SERVER: Running rag_service server as alice@openmined.org\u001b[0m\n",
      "\u001b[32m2025-04-17 13:52:01.864\u001b[0m | \u001b[1mINFO    \u001b[0m | \u001b[36msyft_event.server2\u001b[0m:\u001b[36mregister_rpc\u001b[0m:\u001b[36m142\u001b[0m - \u001b[1mRegister RPC: /query\u001b[0m\n",
      "\u001b[32m2025-04-17 13:52:01.864\u001b[0m | \u001b[1mINFO    \u001b[0m | \u001b[36msyft_rpc_client\u001b[0m:\u001b[36m_run_server\u001b[0m:\u001b[36m93\u001b[0m - \u001b[1m📡 SERVER: Listening for requests at /Users/swag/Desktop/SyftBoxAlice/datasites/alice@openmined.org/app_data/rag_service/rpc\u001b[0m\n",
      "\u001b[32m2025-04-17 13:52:01.866\u001b[0m | \u001b[1mINFO    \u001b[0m | \u001b[36msyft_event.server2\u001b[0m:\u001b[36mpublish_schema\u001b[0m:\u001b[36m98\u001b[0m - \u001b[1mPublished schema to /Users/swag/Desktop/SyftBoxAlice/datasites/alice@openmined.org/app_data/rag_service/rpc/rpc.schema.json\u001b[0m\n",
      "\u001b[32m2025-04-17 13:52:01.898\u001b[0m | \u001b[1mINFO    \u001b[0m | \u001b[36mrag_service\u001b[0m:\u001b[36m_load_rag_database\u001b[0m:\u001b[36m128\u001b[0m - \u001b[1mLoaded RAG database from rag_databases/my_rag_database\u001b[0m\n",
      "\u001b[32m2025-04-17 13:52:01.899\u001b[0m | \u001b[1mINFO    \u001b[0m | \u001b[36msyft_rpc_client\u001b[0m:\u001b[36m__init__\u001b[0m:\u001b[36m51\u001b[0m - \u001b[1m🔑 Connected as: bob@openmined.org\u001b[0m\n",
      "\u001b[32m2025-04-17 13:52:01.899\u001b[0m | \u001b[1mINFO    \u001b[0m | \u001b[36msyft_rpc_client\u001b[0m:\u001b[36m_start_server\u001b[0m:\u001b[36m64\u001b[0m - \u001b[1m🔔 Server started for bob@openmined.org\u001b[0m\n",
      "\u001b[32m2025-04-17 13:52:01.900\u001b[0m | \u001b[1mINFO    \u001b[0m | \u001b[36msyft_event.server2\u001b[0m:\u001b[36mregister_rpc\u001b[0m:\u001b[36m142\u001b[0m - \u001b[1mRegister RPC: /models\u001b[0m\n",
      "\u001b[32m2025-04-17 13:52:01.900\u001b[0m | \u001b[1mINFO    \u001b[0m | \u001b[36msyft_rpc_client\u001b[0m:\u001b[36m_run_server\u001b[0m:\u001b[36m69\u001b[0m - \u001b[1m🚀 SERVER: Running rag_service server as bob@openmined.org\u001b[0m\n",
      "\u001b[32m2025-04-17 13:52:01.902\u001b[0m | \u001b[1mINFO    \u001b[0m | \u001b[36mrag_service\u001b[0m:\u001b[36m_load_rag_database\u001b[0m:\u001b[36m128\u001b[0m - \u001b[1mLoaded RAG database from rag_databases/my_rag_database\u001b[0m\n",
      "\u001b[32m2025-04-17 13:52:01.903\u001b[0m | \u001b[1mINFO    \u001b[0m | \u001b[36msyft_event.server2\u001b[0m:\u001b[36mregister_rpc\u001b[0m:\u001b[36m142\u001b[0m - \u001b[1mRegister RPC: /query\u001b[0m\n",
      "\u001b[32m2025-04-17 13:52:01.903\u001b[0m | \u001b[1mINFO    \u001b[0m | \u001b[36msyft_rpc_client\u001b[0m:\u001b[36m_run_server\u001b[0m:\u001b[36m93\u001b[0m - \u001b[1m📡 SERVER: Listening for requests at /Users/swag/Desktop/SyftBoxBob/datasites/bob@openmined.org/app_data/rag_service/rpc\u001b[0m\n",
      "\u001b[32m2025-04-17 13:52:01.905\u001b[0m | \u001b[1mINFO    \u001b[0m | \u001b[36msyft_event.server2\u001b[0m:\u001b[36mpublish_schema\u001b[0m:\u001b[36m98\u001b[0m - \u001b[1mPublished schema to /Users/swag/Desktop/SyftBoxBob/datasites/bob@openmined.org/app_data/rag_service/rpc/rpc.schema.json\u001b[0m\n",
      "\u001b[32m2025-04-17 13:52:11.630\u001b[0m | \u001b[34m\u001b[1mDEBUG   \u001b[0m | \u001b[36msyft_event.server2\u001b[0m:\u001b[36mprocess_pending_requests\u001b[0m:\u001b[36m107\u001b[0m - \u001b[34m\u001b[1mProcessing pending request 78b3f720-eec0-438c-9bc6-e928b6faca9a.request\u001b[0m\n",
      "\u001b[32m2025-04-17 13:52:11.638\u001b[0m | \u001b[1mINFO    \u001b[0m | \u001b[36mrag_service\u001b[0m:\u001b[36m_handle_request\u001b[0m:\u001b[36m170\u001b[0m - \u001b[1m🔔 RECEIVED: RAG query request for model 'gemma3:4b'\u001b[0m\n",
      "/Users/swag/Desktop/syftbox-rag/rag_service.py:207: LangChainDeprecationWarning: The class `Ollama` was deprecated in LangChain 0.3.1 and will be removed in 1.0.0. An updated version of the class exists in the :class:`~langchain-ollama package and should be used instead. To use it run `pip install -U :class:`~langchain-ollama` and import as `from :class:`~langchain_ollama import OllamaLLM``.\n",
      "  llm = Ollama(\n",
      "/Users/swag/Desktop/syftbox-rag/rag_service.py:214: LangChainDeprecationWarning: The method `BaseLLM.__call__` was deprecated in langchain-core 0.1.7 and will be removed in 1.0. Use :meth:`~invoke` instead.\n",
      "  answer = llm(prompt, max_tokens=request.max_tokens)\n"
     ]
    }
   ],
   "source": [
    "# Initialize client\n",
    "rag = client(\"~/.syft_alice_config.json\")\n",
    "other = \"bob@openmined.org\"\n",
    "rag_bob = client(\"~/.syft_bob_config.json\")"
   ]
  },
  {
   "cell_type": "code",
   "execution_count": 5,
   "id": "357dac3d-dc99-4c39-b47e-4c407f36f876",
   "metadata": {},
   "outputs": [
    {
     "name": "stdout",
     "output_type": "stream",
     "text": [
      "Available servers: ['alice@openmined.org', 'bob@openmined.org']\n"
     ]
    }
   ],
   "source": [
    "print(f\"Available servers: {rag_bob.list_available_servers()}\")"
   ]
  },
  {
   "cell_type": "code",
   "execution_count": 6,
   "id": "7b31bb08-d5a2-435f-946d-6edee2bed16a",
   "metadata": {},
   "outputs": [
    {
     "name": "stderr",
     "output_type": "stream",
     "text": [
      "\u001b[32m2025-04-17 13:52:03.885\u001b[0m | \u001b[1mINFO    \u001b[0m | \u001b[36mrag_service\u001b[0m:\u001b[36mget_models\u001b[0m:\u001b[36m254\u001b[0m - \u001b[1mRequesting available models from bob@openmined.org\u001b[0m\n",
      "\u001b[32m2025-04-17 13:52:03.890\u001b[0m | \u001b[1mINFO    \u001b[0m | \u001b[36mrag_service\u001b[0m:\u001b[36mget_models\u001b[0m:\u001b[36m266\u001b[0m - \u001b[1mAvailable servers: ['alice@openmined.org', 'bob@openmined.org']\u001b[0m\n",
      "\u001b[32m2025-04-17 13:52:03.892\u001b[0m | \u001b[1mINFO    \u001b[0m | \u001b[36mrag_service\u001b[0m:\u001b[36mget_models\u001b[0m:\u001b[36m274\u001b[0m - \u001b[1mSending request: {'ts': datetime.datetime(2025, 4, 17, 17, 52, 3, 891905, tzinfo=datetime.timezone.utc)}\u001b[0m\n",
      "\u001b[32m2025-04-17 13:52:03.894\u001b[0m | \u001b[1mINFO    \u001b[0m | \u001b[36msyft_rpc_client\u001b[0m:\u001b[36msend_request\u001b[0m:\u001b[36m160\u001b[0m - \u001b[1m📤 SENDING: Request to bob@openmined.org/models\u001b[0m\n",
      "\u001b[32m2025-04-17 13:52:05.381\u001b[0m | \u001b[34m\u001b[1mDEBUG   \u001b[0m | \u001b[36msyft_event.handlers\u001b[0m:\u001b[36mon_any_event\u001b[0m:\u001b[36m31\u001b[0m - \u001b[34m\u001b[1mFSEvent - created - /Users/swag/Desktop/SyftBoxBob/datasites/bob@openmined.org/app_data/rag_service/rpc/models/e793eebe-ac06-4589-a5d5-8dbdd221a2c1.request\u001b[0m\n",
      "\u001b[32m2025-04-17 13:52:05.384\u001b[0m | \u001b[1mINFO    \u001b[0m | \u001b[36mrag_service\u001b[0m:\u001b[36mmodel_list_handler\u001b[0m:\u001b[36m99\u001b[0m - \u001b[1m🔔 RECEIVED: Model list request from alice@openmined.org\u001b[0m\n",
      "\u001b[32m2025-04-17 13:52:05.384\u001b[0m | \u001b[1mINFO    \u001b[0m | \u001b[36mrag_service\u001b[0m:\u001b[36mmodel_list_handler\u001b[0m:\u001b[36m100\u001b[0m - \u001b[1mRequest data: {'ts': '2025-04-17T17:52:03.891905Z'}\u001b[0m\n",
      "\u001b[32m2025-04-17 13:52:05.385\u001b[0m | \u001b[1mINFO    \u001b[0m | \u001b[36mrag_service\u001b[0m:\u001b[36m_handle_model_list_request\u001b[0m:\u001b[36m137\u001b[0m - \u001b[1mQuerying Ollama at http://localhost:11434 for available models\u001b[0m\n",
      "\u001b[32m2025-04-17 13:52:05.440\u001b[0m | \u001b[1mINFO    \u001b[0m | \u001b[36mrag_service\u001b[0m:\u001b[36m_handle_model_list_request\u001b[0m:\u001b[36m145\u001b[0m - \u001b[1mFound 3 available models\u001b[0m\n",
      "\u001b[32m2025-04-17 13:52:06.672\u001b[0m | \u001b[1mINFO    \u001b[0m | \u001b[36msyft_rpc_client\u001b[0m:\u001b[36msend_request\u001b[0m:\u001b[36m175\u001b[0m - \u001b[1m📥 RECEIVED: Response from bob@openmined.org. Time: 2.78s\u001b[0m\n",
      "\u001b[32m2025-04-17 13:52:06.673\u001b[0m | \u001b[1mINFO    \u001b[0m | \u001b[36mrag_service\u001b[0m:\u001b[36mget_models\u001b[0m:\u001b[36m287\u001b[0m - \u001b[1mReceived 3 models from bob@openmined.org\u001b[0m\n"
     ]
    },
    {
     "name": "stdout",
     "output_type": "stream",
     "text": [
      "Available models: ['gemma3:4b', 'deepseek-r1:1.5b', 'llama3.2:latest']\n"
     ]
    }
   ],
   "source": [
    "# List available models\n",
    "models = rag.get_models(other)\n",
    "print(f\"Available models: {models}\")"
   ]
  },
  {
   "cell_type": "code",
   "execution_count": 7,
   "id": "2b588000-b8c6-4d0d-a908-0d3eef77ebe7",
   "metadata": {},
   "outputs": [
    {
     "name": "stderr",
     "output_type": "stream",
     "text": [
      "\u001b[32m2025-04-17 13:52:09.473\u001b[0m | \u001b[1mINFO    \u001b[0m | \u001b[36msyft_rpc_client\u001b[0m:\u001b[36msend_request\u001b[0m:\u001b[36m160\u001b[0m - \u001b[1m📤 SENDING: Request to bob@openmined.org/query\u001b[0m\n",
      "\u001b[32m2025-04-17 13:52:10.646\u001b[0m | \u001b[34m\u001b[1mDEBUG   \u001b[0m | \u001b[36msyft_event.handlers\u001b[0m:\u001b[36mon_any_event\u001b[0m:\u001b[36m31\u001b[0m - \u001b[34m\u001b[1mFSEvent - created - /Users/swag/Desktop/SyftBoxBob/datasites/bob@openmined.org/app_data/rag_service/rpc/query/78b3f720-eec0-438c-9bc6-e928b6faca9a.request\u001b[0m\n",
      "\u001b[32m2025-04-17 13:52:10.648\u001b[0m | \u001b[1mINFO    \u001b[0m | \u001b[36mrag_service\u001b[0m:\u001b[36m_handle_request\u001b[0m:\u001b[36m170\u001b[0m - \u001b[1m🔔 RECEIVED: RAG query request for model 'gemma3:4b'\u001b[0m\n",
      "Context leak detected, msgtracer returned -1\n",
      "Context leak detected, msgtracer returned -1\n",
      "Context leak detected, msgtracer returned -1\n",
      "Context leak detected, msgtracer returned -1\n",
      "Context leak detected, msgtracer returned -1\n",
      "Context leak detected, msgtracer returned -1\n",
      "Context leak detected, msgtracer returned -1\n",
      "Context leak detected, msgtracer returned -1\n",
      "Context leak detected, msgtracer returned -1\n",
      "Context leak detected, msgtracer returned -1\n",
      "Context leak detected, msgtracer returned -1\n",
      "Context leak detected, msgtracer returned -1\n",
      "Context leak detected, msgtracer returned -1\n",
      "Context leak detected, msgtracer returned -1\n",
      "Context leak detected, msgtracer returned -1\n",
      "Context leak detected, msgtracer returned -1\n",
      "Context leak detected, msgtracer returned -1\n",
      "Context leak detected, msgtracer returned -1\n",
      "Context leak detected, msgtracer returned -1\n",
      "Context leak detected, msgtracer returned -1\n",
      "Context leak detected, msgtracer returned -1\n",
      "Context leak detected, msgtracer returned -1\n",
      "Context leak detected, msgtracer returned -1\n",
      "Context leak detected, msgtracer returned -1\n",
      "Context leak detected, msgtracer returned -1\n",
      "Context leak detected, msgtracer returned -1\n",
      "Context leak detected, msgtracer returned -1\n",
      "Context leak detected, msgtracer returned -1\n",
      "Context leak detected, msgtracer returned -1\n",
      "Context leak detected, msgtracer returned -1\n",
      "Context leak detected, msgtracer returned -1\n",
      "Context leak detected, msgtracer returned -1\n",
      "Context leak detected, msgtracer returned -1\n",
      "Context leak detected, msgtracer returned -1\n",
      "Context leak detected, msgtracer returned -1\n",
      "Context leak detected, msgtracer returned -1\n",
      "Context leak detected, msgtracer returned -1\n",
      "Context leak detected, msgtracer returned -1\n",
      "Context leak detected, msgtracer returned -1\n",
      "Context leak detected, msgtracer returned -1\n",
      "Context leak detected, msgtracer returned -1\n",
      "Context leak detected, msgtracer returned -1\n",
      "Context leak detected, msgtracer returned -1\n",
      "Context leak detected, msgtracer returned -1\n",
      "Context leak detected, msgtracer returned -1\n",
      "Context leak detected, msgtracer returned -1\n",
      "Context leak detected, msgtracer returned -1\n",
      "Context leak detected, msgtracer returned -1\n",
      "Context leak detected, msgtracer returned -1\n",
      "Context leak detected, msgtracer returned -1\n",
      "Context leak detected, msgtracer returned -1\n",
      "Context leak detected, msgtracer returned -1\n",
      "Context leak detected, msgtracer returned -1\n",
      "Context leak detected, msgtracer returned -1\n",
      "Context leak detected, msgtracer returned -1\n",
      "Context leak detected, msgtracer returned -1\n",
      "Context leak detected, msgtracer returned -1\n",
      "Context leak detected, msgtracer returned -1\n",
      "Context leak detected, msgtracer returned -1\n",
      "Context leak detected, msgtracer returned -1\n",
      "\u001b[32m2025-04-17 13:52:18.059\u001b[0m | \u001b[1mINFO    \u001b[0m | \u001b[36msyft_rpc_client\u001b[0m:\u001b[36msend_request\u001b[0m:\u001b[36m175\u001b[0m - \u001b[1m📥 RECEIVED: Response from bob@openmined.org. Time: 8.58s\u001b[0m\n"
     ]
    },
    {
     "name": "stdout",
     "output_type": "stream",
     "text": [
      "Answer: According to Document 3, Bill Cottrell died on March 20, 2025.\n",
      "\n",
      "Sources:\n",
      "- s://www .newspapers.com/article/delaware-county-daily-times/169426233/) . Delaware County\n",
      "Daily Time...\n",
      "  Relevance: 0.16\n",
      "- 14. \"Lions' Joe Robb Out For Rest of Season\"  (https://www .newspapers.com/article/the-grand-rapids-...\n",
      "  Relevance: 0.12\n",
      "- Cottrell was a member of the Fellowship of Christian Athletes  and during his career with the Lions,...\n",
      "  Relevance: 0.06\n",
      "- (https://www .freep.com/story/sports/nﬂ/lions/2025/04/02/bill-cottrell-obituary-detroit-lions-nﬂ-ﬁrs...\n",
      "  Relevance: 0.00\n"
     ]
    }
   ],
   "source": [
    "# Send a query\n",
    "response = rag.query(\n",
    "    to_email=other,\n",
    "    prompt=\"When did the legendary and famous Bill Cottrell Die?\",\n",
    "    model=models[0]\n",
    ")\n",
    "\n",
    "if response and not response.error:\n",
    "    print(f\"Answer: {response.answer}\")\n",
    "    print(\"\\nSources:\")\n",
    "    for source in response.sources:\n",
    "        print(f\"- {source['content'][:100]}...\")\n",
    "        if 'relevance' in source:\n",
    "            print(f\"  Relevance: {source['relevance']:.2f}\")\n",
    "else:\n",
    "    print(f\"Error: {response.error if response else 'No response'}\")"
   ]
  },
  {
   "cell_type": "code",
   "execution_count": null,
   "id": "12e0381c-fa36-4664-9ef8-864f80cc9d95",
   "metadata": {},
   "outputs": [],
   "source": []
  },
  {
   "cell_type": "code",
   "execution_count": null,
   "id": "697894ff-e8c1-4ca6-950e-a22cf1c666ad",
   "metadata": {},
   "outputs": [],
   "source": []
  }
 ],
 "metadata": {
  "kernelspec": {
   "display_name": "Python 3 (ipykernel)",
   "language": "python",
   "name": "python3"
  },
  "language_info": {
   "codemirror_mode": {
    "name": "ipython",
    "version": 3
   },
   "file_extension": ".py",
   "mimetype": "text/x-python",
   "name": "python",
   "nbconvert_exporter": "python",
   "pygments_lexer": "ipython3",
   "version": "3.10.15"
  }
 },
 "nbformat": 4,
 "nbformat_minor": 5
}
