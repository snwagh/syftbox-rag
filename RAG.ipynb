{
 "cells": [
  {
   "cell_type": "code",
   "execution_count": 1,
   "id": "b97dd8b1-481d-4196-8155-afc8e3b622d4",
   "metadata": {},
   "outputs": [],
   "source": [
    "from rag_builder import RAGBuilder"
   ]
  },
  {
   "cell_type": "code",
   "execution_count": 2,
   "id": "7e1b6982-4efc-42e6-a7f9-14aba146ea34",
   "metadata": {},
   "outputs": [],
   "source": [
    "r = RAGBuilder()"
   ]
  },
  {
   "cell_type": "code",
   "execution_count": 3,
   "id": "e0753824-45c3-4ded-912c-29be9ed36038",
   "metadata": {},
   "outputs": [
    {
     "name": "stdout",
     "output_type": "stream",
     "text": [
      "Starting new authentication process...\n",
      "Opening browser for authentication...\n",
      "Please complete the authentication in your browser.\n",
      "After authentication, you can close the browser window and return to Jupyter.\n",
      "\n",
      "Note: Make sure to grant all requested permissions when prompted.\n"
     ]
    },
    {
     "name": "stderr",
     "output_type": "stream",
     "text": [
      "127.0.0.1 - - [25/Apr/2025 09:13:16] \"GET /?code=M.C552_BAY.2.U.5168fe24-67fe-5952-567e-06e1a35a766b HTTP/1.1\" 200 -\n",
      "127.0.0.1 - - [25/Apr/2025 09:13:16] \"GET /favicon.ico HTTP/1.1\" 200 -\n"
     ]
    },
    {
     "name": "stdout",
     "output_type": "stream",
     "text": [
      "Authentication successful! You can now continue with the RAG database building.\n",
      "Authentication server closed.\n",
      "Starting recursive file scan...\n",
      "Scanning folder: root\n",
      "Found 4 items in root\n",
      "Scanning folder: Documents\n",
      "Found 1 items in Documents\n",
      "Added file: Bill_Cottrell.pdf\n",
      "Scanning folder: Pictures\n",
      "Found 0 items in Pictures\n",
      "Scanning folder: Syftbox\n",
      "Found 2 items in Syftbox\n",
      "Scanning folder: Obituries\n",
      "Found 1 items in Obituries\n",
      "Added file: Pope_Francis.pdf\n",
      "Added file: Trump_tariffs.pdf\n",
      "Added file: Getting started with OneDrive.pdf\n",
      "\n",
      "Total files found: 4\n",
      "\n",
      "Available files:\n",
      "1. /Documents/Bill_Cottrell.pdf\n",
      "2. /Syftbox/Obituries/Pope_Francis.pdf\n",
      "3. /Syftbox/Trump_tariffs.pdf\n",
      "4. /Getting started with OneDrive.pdf\n"
     ]
    },
    {
     "name": "stdin",
     "output_type": "stream",
     "text": [
      "\n",
      "Enter the numbers of files you want to include in the RAG database (comma-separated, e.g., '1,3,5'):  1\n"
     ]
    },
    {
     "name": "stdout",
     "output_type": "stream",
     "text": [
      "\n",
      "Selected files:\n",
      "- /Documents/Bill_Cottrell.pdf\n",
      "Downloaded Bill_Cottrell.pdf successfully!\n",
      "Creating new collection 'documents'\n",
      "Processing Bill_Cottrell.pdf...\n",
      "Added Bill_Cottrell.pdf to RAG database\n",
      "Cleaned up Bill_Cottrell.pdf\n",
      "RAG database is ready to use!\n"
     ]
    }
   ],
   "source": [
    "r.build_rag_database()"
   ]
  },
  {
   "cell_type": "code",
   "execution_count": null,
   "id": "435e1b80-f06a-47f2-bbcf-e415ebac578f",
   "metadata": {},
   "outputs": [],
   "source": []
  }
 ],
 "metadata": {
  "kernelspec": {
   "display_name": "Python 3 (ipykernel)",
   "language": "python",
   "name": "python3"
  },
  "language_info": {
   "codemirror_mode": {
    "name": "ipython",
    "version": 3
   },
   "file_extension": ".py",
   "mimetype": "text/x-python",
   "name": "python",
   "nbconvert_exporter": "python",
   "pygments_lexer": "ipython3",
   "version": "3.10.15"
  }
 },
 "nbformat": 4,
 "nbformat_minor": 5
}
