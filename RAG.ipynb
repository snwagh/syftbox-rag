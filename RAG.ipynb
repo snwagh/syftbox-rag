{
 "cells": [
  {
   "cell_type": "code",
   "execution_count": 1,
   "id": "7aa4f7b1-3789-4ff9-a735-05856f221841",
   "metadata": {},
   "outputs": [],
   "source": [
    "from rag_service import client"
   ]
  },
  {
   "cell_type": "code",
   "execution_count": 4,
   "id": "b831ffcd-a5a9-4364-a4e6-379bb7a52dad",
   "metadata": {},
   "outputs": [
    {
     "name": "stderr",
     "output_type": "stream",
     "text": [
      "\u001b[32m2025-04-24 09:43:07.464\u001b[0m | \u001b[1mINFO    \u001b[0m | \u001b[36msyft_rpc_client\u001b[0m:\u001b[36m__init__\u001b[0m:\u001b[36m51\u001b[0m - \u001b[1m🔑 Connected as: alice@openmined.org\u001b[0m\n",
      "\u001b[32m2025-04-24 09:43:07.468\u001b[0m | \u001b[1mINFO    \u001b[0m | \u001b[36msyft_rpc_client\u001b[0m:\u001b[36m_start_server\u001b[0m:\u001b[36m64\u001b[0m - \u001b[1m🔔 Server started for alice@openmined.org\u001b[0m\n",
      "\u001b[32m2025-04-24 09:43:07.468\u001b[0m | \u001b[1mINFO    \u001b[0m | \u001b[36msyft_event.server2\u001b[0m:\u001b[36mregister_rpc\u001b[0m:\u001b[36m142\u001b[0m - \u001b[1mRegister RPC: /models\u001b[0m\n",
      "\u001b[32m2025-04-24 09:43:07.475\u001b[0m | \u001b[1mINFO    \u001b[0m | \u001b[36msyft_rpc_client\u001b[0m:\u001b[36m_run_server\u001b[0m:\u001b[36m69\u001b[0m - \u001b[1m🚀 SERVER: Running rag_service server as alice@openmined.org\u001b[0m\n",
      "\u001b[32m2025-04-24 09:43:07.476\u001b[0m | \u001b[1mINFO    \u001b[0m | \u001b[36mrag_service\u001b[0m:\u001b[36m_load_rag_database\u001b[0m:\u001b[36m128\u001b[0m - \u001b[1mLoaded RAG database from rag_databases/my_rag_database\u001b[0m\n",
      "\u001b[32m2025-04-24 09:43:07.478\u001b[0m | \u001b[1mINFO    \u001b[0m | \u001b[36msyft_event.server2\u001b[0m:\u001b[36mregister_rpc\u001b[0m:\u001b[36m142\u001b[0m - \u001b[1mRegister RPC: /query\u001b[0m\n",
      "\u001b[32m2025-04-24 09:43:07.479\u001b[0m | \u001b[1mINFO    \u001b[0m | \u001b[36msyft_rpc_client\u001b[0m:\u001b[36m_run_server\u001b[0m:\u001b[36m93\u001b[0m - \u001b[1m📡 SERVER: Listening for requests at /Users/swag/Desktop/SyftBoxAlice/datasites/alice@openmined.org/app_data/rag_service/rpc\u001b[0m\n",
      "\u001b[32m2025-04-24 09:43:07.483\u001b[0m | \u001b[1mINFO    \u001b[0m | \u001b[36msyft_rpc_client\u001b[0m:\u001b[36m__init__\u001b[0m:\u001b[36m51\u001b[0m - \u001b[1m🔑 Connected as: bob@openmined.org\u001b[0m\n",
      "\u001b[32m2025-04-24 09:43:07.483\u001b[0m | \u001b[1mINFO    \u001b[0m | \u001b[36msyft_event.server2\u001b[0m:\u001b[36mpublish_schema\u001b[0m:\u001b[36m98\u001b[0m - \u001b[1mPublished schema to /Users/swag/Desktop/SyftBoxAlice/datasites/alice@openmined.org/app_data/rag_service/rpc/rpc.schema.json\u001b[0m\n",
      "\u001b[32m2025-04-24 09:43:07.484\u001b[0m | \u001b[1mINFO    \u001b[0m | \u001b[36msyft_rpc_client\u001b[0m:\u001b[36m_start_server\u001b[0m:\u001b[36m64\u001b[0m - \u001b[1m🔔 Server started for bob@openmined.org\u001b[0m\n",
      "\u001b[32m2025-04-24 09:43:07.486\u001b[0m | \u001b[1mINFO    \u001b[0m | \u001b[36msyft_event.server2\u001b[0m:\u001b[36mregister_rpc\u001b[0m:\u001b[36m142\u001b[0m - \u001b[1mRegister RPC: /models\u001b[0m\n",
      "\u001b[32m2025-04-24 09:43:07.488\u001b[0m | \u001b[1mINFO    \u001b[0m | \u001b[36msyft_rpc_client\u001b[0m:\u001b[36m_run_server\u001b[0m:\u001b[36m69\u001b[0m - \u001b[1m🚀 SERVER: Running rag_service server as bob@openmined.org\u001b[0m\n",
      "\u001b[32m2025-04-24 09:43:07.489\u001b[0m | \u001b[1mINFO    \u001b[0m | \u001b[36msyft_event.server2\u001b[0m:\u001b[36mregister_rpc\u001b[0m:\u001b[36m142\u001b[0m - \u001b[1mRegister RPC: /query\u001b[0m\n",
      "\u001b[32m2025-04-24 09:43:07.491\u001b[0m | \u001b[1mINFO    \u001b[0m | \u001b[36msyft_rpc_client\u001b[0m:\u001b[36m_run_server\u001b[0m:\u001b[36m93\u001b[0m - \u001b[1m📡 SERVER: Listening for requests at /Users/swag/Desktop/SyftBoxBob/datasites/bob@openmined.org/app_data/rag_service/rpc\u001b[0m\n",
      "Unhandled exception in FSEventsEmitter\n",
      "Traceback (most recent call last):\n",
      "  File \"/Users/swag/Desktop/syftbox-rag/.venv/lib/python3.10/site-packages/watchdog/observers/fsevents.py\", line 307, in run\n",
      "    _fsevents.add_watch(self, self.watch, self.events_callback, self.pathnames)\n",
      "RuntimeError: Cannot add watch <ObservedWatch: path='/Users/swag/Desktop/SyftBoxAlice/datasites/alice@openmined.org/app_data/rag_service/rpc/query', is_recursive=True, event_filter=FileCreatedEvent> - it is already scheduled\n",
      "\u001b[32m2025-04-24 09:43:07.492\u001b[0m | \u001b[1mINFO    \u001b[0m | \u001b[36mrag_service\u001b[0m:\u001b[36m_load_rag_database\u001b[0m:\u001b[36m128\u001b[0m - \u001b[1mLoaded RAG database from rag_databases/my_rag_database\u001b[0m\n",
      "Unhandled exception in FSEventsEmitter\n",
      "Traceback (most recent call last):\n",
      "  File \"/Users/swag/Desktop/syftbox-rag/.venv/lib/python3.10/site-packages/watchdog/observers/fsevents.py\", line 307, in run\n",
      "    _fsevents.add_watch(self, self.watch, self.events_callback, self.pathnames)\n",
      "RuntimeError: Cannot add watch <ObservedWatch: path='/Users/swag/Desktop/SyftBoxAlice/datasites/alice@openmined.org/app_data/rag_service/rpc/models', is_recursive=True, event_filter=FileCreatedEvent> - it is already scheduled\n",
      "\u001b[32m2025-04-24 09:43:07.495\u001b[0m | \u001b[1mINFO    \u001b[0m | \u001b[36msyft_event.server2\u001b[0m:\u001b[36mpublish_schema\u001b[0m:\u001b[36m98\u001b[0m - \u001b[1mPublished schema to /Users/swag/Desktop/SyftBoxBob/datasites/bob@openmined.org/app_data/rag_service/rpc/rpc.schema.json\u001b[0m\n",
      "Unhandled exception in FSEventsEmitter\n",
      "Traceback (most recent call last):\n",
      "  File \"/Users/swag/Desktop/syftbox-rag/.venv/lib/python3.10/site-packages/watchdog/observers/fsevents.py\", line 307, in run\n",
      "    _fsevents.add_watch(self, self.watch, self.events_callback, self.pathnames)\n",
      "RuntimeError: Cannot add watch <ObservedWatch: path='/Users/swag/Desktop/SyftBoxBob/datasites/bob@openmined.org/app_data/rag_service/rpc/models', is_recursive=True, event_filter=FileCreatedEvent> - it is already scheduled\n",
      "Unhandled exception in FSEventsEmitter\n",
      "Traceback (most recent call last):\n",
      "  File \"/Users/swag/Desktop/syftbox-rag/.venv/lib/python3.10/site-packages/watchdog/observers/fsevents.py\", line 307, in run\n",
      "    _fsevents.add_watch(self, self.watch, self.events_callback, self.pathnames)\n",
      "RuntimeError: Cannot add watch <ObservedWatch: path='/Users/swag/Desktop/SyftBoxBob/datasites/bob@openmined.org/app_data/rag_service/rpc/query', is_recursive=True, event_filter=FileCreatedEvent> - it is already scheduled\n",
      "\u001b[32m2025-04-24 09:43:19.581\u001b[0m | \u001b[34m\u001b[1mDEBUG   \u001b[0m | \u001b[36msyft_event.server2\u001b[0m:\u001b[36mprocess_pending_requests\u001b[0m:\u001b[36m107\u001b[0m - \u001b[34m\u001b[1mProcessing pending request 8861976d-2bbe-40bf-ad9e-70bdd49ce094.request\u001b[0m\n",
      "\u001b[32m2025-04-24 09:43:19.582\u001b[0m | \u001b[1mINFO    \u001b[0m | \u001b[36mrag_service\u001b[0m:\u001b[36mmodel_list_handler\u001b[0m:\u001b[36m99\u001b[0m - \u001b[1m🔔 RECEIVED: Model list request from alice@openmined.org\u001b[0m\n",
      "\u001b[32m2025-04-24 09:43:19.583\u001b[0m | \u001b[1mINFO    \u001b[0m | \u001b[36mrag_service\u001b[0m:\u001b[36mmodel_list_handler\u001b[0m:\u001b[36m100\u001b[0m - \u001b[1mRequest data: {'ts': '2025-04-24T13:43:17.919886Z'}\u001b[0m\n",
      "\u001b[32m2025-04-24 09:43:19.583\u001b[0m | \u001b[1mINFO    \u001b[0m | \u001b[36mrag_service\u001b[0m:\u001b[36m_handle_model_list_request\u001b[0m:\u001b[36m137\u001b[0m - \u001b[1mQuerying Ollama at http://localhost:11434 for available models\u001b[0m\n",
      "\u001b[32m2025-04-24 09:43:19.696\u001b[0m | \u001b[1mINFO    \u001b[0m | \u001b[36mrag_service\u001b[0m:\u001b[36m_handle_model_list_request\u001b[0m:\u001b[36m145\u001b[0m - \u001b[1mFound 3 available models\u001b[0m\n",
      "\u001b[32m2025-04-24 09:44:28.613\u001b[0m | \u001b[34m\u001b[1mDEBUG   \u001b[0m | \u001b[36msyft_event.server2\u001b[0m:\u001b[36mprocess_pending_requests\u001b[0m:\u001b[36m107\u001b[0m - \u001b[34m\u001b[1mProcessing pending request 318c9ce2-5534-43ed-961b-2c3aafcb1526.request\u001b[0m\n",
      "\u001b[32m2025-04-24 09:44:28.614\u001b[0m | \u001b[1mINFO    \u001b[0m | \u001b[36mrag_service\u001b[0m:\u001b[36m_handle_request\u001b[0m:\u001b[36m170\u001b[0m - \u001b[1m🔔 RECEIVED: RAG query request for model 'gemma3:4b'\u001b[0m\n"
     ]
    }
   ],
   "source": [
    "# Initialize client\n",
    "rag_alice = client(\"~/.syft_alice_config.json\")\n",
    "bob_client = \"bob@openmined.org\"\n",
    "rag_bob = client(\"~/.syft_bob_config.json\")"
   ]
  },
  {
   "cell_type": "code",
   "execution_count": 3,
   "id": "357dac3d-dc99-4c39-b47e-4c407f36f876",
   "metadata": {},
   "outputs": [
    {
     "name": "stdout",
     "output_type": "stream",
     "text": [
      "Available servers: ['alice@openmined.org', 'bob@openmined.org']\n"
     ]
    }
   ],
   "source": [
    "print(f\"Available servers: {rag_alice.list_available_servers()}\")"
   ]
  },
  {
   "cell_type": "code",
   "execution_count": 5,
   "id": "7b31bb08-d5a2-435f-946d-6edee2bed16a",
   "metadata": {},
   "outputs": [
    {
     "name": "stderr",
     "output_type": "stream",
     "text": [
      "\u001b[32m2025-04-24 09:43:17.912\u001b[0m | \u001b[1mINFO    \u001b[0m | \u001b[36mrag_service\u001b[0m:\u001b[36mget_models\u001b[0m:\u001b[36m254\u001b[0m - \u001b[1mRequesting available models from bob@openmined.org\u001b[0m\n",
      "\u001b[32m2025-04-24 09:43:17.918\u001b[0m | \u001b[1mINFO    \u001b[0m | \u001b[36mrag_service\u001b[0m:\u001b[36mget_models\u001b[0m:\u001b[36m266\u001b[0m - \u001b[1mAvailable servers: ['alice@openmined.org', 'bob@openmined.org']\u001b[0m\n",
      "\u001b[32m2025-04-24 09:43:17.920\u001b[0m | \u001b[1mINFO    \u001b[0m | \u001b[36mrag_service\u001b[0m:\u001b[36mget_models\u001b[0m:\u001b[36m274\u001b[0m - \u001b[1mSending request: {'ts': datetime.datetime(2025, 4, 24, 13, 43, 17, 919886, tzinfo=datetime.timezone.utc)}\u001b[0m\n",
      "\u001b[32m2025-04-24 09:43:17.921\u001b[0m | \u001b[1mINFO    \u001b[0m | \u001b[36msyft_rpc_client\u001b[0m:\u001b[36msend_request\u001b[0m:\u001b[36m160\u001b[0m - \u001b[1m📤 SENDING: Request to bob@openmined.org/models\u001b[0m\n",
      "\u001b[32m2025-04-24 09:43:19.562\u001b[0m | \u001b[34m\u001b[1mDEBUG   \u001b[0m | \u001b[36msyft_event.handlers\u001b[0m:\u001b[36mon_any_event\u001b[0m:\u001b[36m31\u001b[0m - \u001b[34m\u001b[1mFSEvent - created - /Users/swag/Desktop/SyftBoxBob/datasites/bob@openmined.org/app_data/rag_service/rpc/models/8861976d-2bbe-40bf-ad9e-70bdd49ce094.request\u001b[0m\n",
      "\u001b[32m2025-04-24 09:43:19.563\u001b[0m | \u001b[1mINFO    \u001b[0m | \u001b[36mrag_service\u001b[0m:\u001b[36mmodel_list_handler\u001b[0m:\u001b[36m99\u001b[0m - \u001b[1m🔔 RECEIVED: Model list request from alice@openmined.org\u001b[0m\n",
      "\u001b[32m2025-04-24 09:43:19.564\u001b[0m | \u001b[1mINFO    \u001b[0m | \u001b[36mrag_service\u001b[0m:\u001b[36mmodel_list_handler\u001b[0m:\u001b[36m100\u001b[0m - \u001b[1mRequest data: {'ts': '2025-04-24T13:43:17.919886Z'}\u001b[0m\n",
      "\u001b[32m2025-04-24 09:43:19.564\u001b[0m | \u001b[1mINFO    \u001b[0m | \u001b[36mrag_service\u001b[0m:\u001b[36m_handle_model_list_request\u001b[0m:\u001b[36m137\u001b[0m - \u001b[1mQuerying Ollama at http://localhost:11434 for available models\u001b[0m\n",
      "\u001b[32m2025-04-24 09:43:19.696\u001b[0m | \u001b[1mINFO    \u001b[0m | \u001b[36mrag_service\u001b[0m:\u001b[36m_handle_model_list_request\u001b[0m:\u001b[36m145\u001b[0m - \u001b[1mFound 3 available models\u001b[0m\n",
      "\u001b[32m2025-04-24 09:43:20.984\u001b[0m | \u001b[1mINFO    \u001b[0m | \u001b[36msyft_rpc_client\u001b[0m:\u001b[36msend_request\u001b[0m:\u001b[36m175\u001b[0m - \u001b[1m📥 RECEIVED: Response from bob@openmined.org. Time: 3.06s\u001b[0m\n",
      "\u001b[32m2025-04-24 09:43:20.985\u001b[0m | \u001b[1mINFO    \u001b[0m | \u001b[36mrag_service\u001b[0m:\u001b[36mget_models\u001b[0m:\u001b[36m287\u001b[0m - \u001b[1mReceived 3 models from bob@openmined.org\u001b[0m\n"
     ]
    },
    {
     "name": "stdout",
     "output_type": "stream",
     "text": [
      "Available models: ['gemma3:4b', 'deepseek-r1:1.5b', 'llama3.2:latest']\n"
     ]
    }
   ],
   "source": [
    "# List available models\n",
    "models = rag_alice.get_models(bob_client)\n",
    "print(f\"Available models: {models}\")"
   ]
  },
  {
   "cell_type": "code",
   "execution_count": 6,
   "id": "2b588000-b8c6-4d0d-a908-0d3eef77ebe7",
   "metadata": {},
   "outputs": [
    {
     "name": "stderr",
     "output_type": "stream",
     "text": [
      "\u001b[32m2025-04-24 09:44:27.280\u001b[0m | \u001b[1mINFO    \u001b[0m | \u001b[36msyft_rpc_client\u001b[0m:\u001b[36msend_request\u001b[0m:\u001b[36m160\u001b[0m - \u001b[1m📤 SENDING: Request to bob@openmined.org/query\u001b[0m\n",
      "\u001b[32m2025-04-24 09:44:29.252\u001b[0m | \u001b[34m\u001b[1mDEBUG   \u001b[0m | \u001b[36msyft_event.handlers\u001b[0m:\u001b[36mon_any_event\u001b[0m:\u001b[36m31\u001b[0m - \u001b[34m\u001b[1mFSEvent - created - /Users/swag/Desktop/SyftBoxBob/datasites/bob@openmined.org/app_data/rag_service/rpc/query/318c9ce2-5534-43ed-961b-2c3aafcb1526.request\u001b[0m\n",
      "\u001b[32m2025-04-24 09:44:29.255\u001b[0m | \u001b[1mINFO    \u001b[0m | \u001b[36mrag_service\u001b[0m:\u001b[36m_handle_request\u001b[0m:\u001b[36m170\u001b[0m - \u001b[1m🔔 RECEIVED: RAG query request for model 'gemma3:4b'\u001b[0m\n",
      "Context leak detected, msgtracer returned -1\n",
      "Context leak detected, msgtracer returned -1\n",
      "Context leak detected, msgtracer returned -1\n",
      "Context leak detected, msgtracer returned -1\n",
      "Context leak detected, msgtracer returned -1\n",
      "Context leak detected, msgtracer returned -1\n",
      "Context leak detected, msgtracer returned -1\n",
      "Context leak detected, msgtracer returned -1\n",
      "Context leak detected, msgtracer returned -1\n",
      "Context leak detected, msgtracer returned -1\n",
      "Context leak detected, msgtracer returned -1\n",
      "Context leak detected, msgtracer returned -1\n",
      "Context leak detected, msgtracer returned -1\n",
      "Context leak detected, msgtracer returned -1\n",
      "Context leak detected, msgtracer returned -1\n",
      "Context leak detected, msgtracer returned -1\n",
      "Context leak detected, msgtracer returned -1\n",
      "Context leak detected, msgtracer returned -1\n",
      "Context leak detected, msgtracer returned -1\n",
      "Context leak detected, msgtracer returned -1\n",
      "Context leak detected, msgtracer returned -1\n",
      "Context leak detected, msgtracer returned -1\n",
      "Context leak detected, msgtracer returned -1\n",
      "Context leak detected, msgtracer returned -1\n",
      "Context leak detected, msgtracer returned -1\n",
      "Context leak detected, msgtracer returned -1\n",
      "Context leak detected, msgtracer returned -1\n",
      "Context leak detected, msgtracer returned -1\n",
      "Context leak detected, msgtracer returned -1\n",
      "Context leak detected, msgtracer returned -1\n",
      "Context leak detected, msgtracer returned -1\n",
      "Context leak detected, msgtracer returned -1\n",
      "Context leak detected, msgtracer returned -1\n",
      "Context leak detected, msgtracer returned -1\n",
      "Context leak detected, msgtracer returned -1\n",
      "Context leak detected, msgtracer returned -1\n",
      "Context leak detected, msgtracer returned -1\n",
      "Context leak detected, msgtracer returned -1\n",
      "Context leak detected, msgtracer returned -1\n",
      "Context leak detected, msgtracer returned -1\n",
      "Context leak detected, msgtracer returned -1\n",
      "Context leak detected, msgtracer returned -1\n",
      "Context leak detected, msgtracer returned -1\n",
      "Context leak detected, msgtracer returned -1\n",
      "Context leak detected, msgtracer returned -1\n",
      "Context leak detected, msgtracer returned -1\n",
      "Context leak detected, msgtracer returned -1\n",
      "Context leak detected, msgtracer returned -1\n",
      "Context leak detected, msgtracer returned -1\n",
      "Context leak detected, msgtracer returned -1\n",
      "Context leak detected, msgtracer returned -1\n",
      "Context leak detected, msgtracer returned -1\n",
      "Context leak detected, msgtracer returned -1\n",
      "Context leak detected, msgtracer returned -1\n",
      "Context leak detected, msgtracer returned -1\n",
      "Context leak detected, msgtracer returned -1\n",
      "Context leak detected, msgtracer returned -1\n",
      "Context leak detected, msgtracer returned -1\n",
      "Context leak detected, msgtracer returned -1\n",
      "Context leak detected, msgtracer returned -1\n",
      "Context leak detected, msgtracer returned -1\n",
      "Context leak detected, msgtracer returned -1\n",
      "Context leak detected, msgtracer returned -1\n",
      "Context leak detected, msgtracer returned -1\n",
      "Context leak detected, msgtracer returned -1\n",
      "Context leak detected, msgtracer returned -1\n",
      "Context leak detected, msgtracer returned -1\n",
      "Context leak detected, msgtracer returned -1\n",
      "Context leak detected, msgtracer returned -1\n",
      "Context leak detected, msgtracer returned -1\n",
      "/Users/swag/Desktop/syftbox-rag/rag_service.py:207: LangChainDeprecationWarning: The class `Ollama` was deprecated in LangChain 0.3.1 and will be removed in 1.0.0. An updated version of the class exists in the :class:`~langchain-ollama package and should be used instead. To use it run `pip install -U :class:`~langchain-ollama` and import as `from :class:`~langchain_ollama import OllamaLLM``.\n",
      "  llm = Ollama(\n",
      "/Users/swag/Desktop/syftbox-rag/rag_service.py:214: LangChainDeprecationWarning: The method `BaseLLM.__call__` was deprecated in langchain-core 0.1.7 and will be removed in 1.0. Use :meth:`~invoke` instead.\n",
      "  answer = llm(prompt, max_tokens=request.max_tokens)\n",
      "\u001b[32m2025-04-24 09:44:39.494\u001b[0m | \u001b[1mINFO    \u001b[0m | \u001b[36msyft_rpc_client\u001b[0m:\u001b[36msend_request\u001b[0m:\u001b[36m175\u001b[0m - \u001b[1m📥 RECEIVED: Response from bob@openmined.org. Time: 12.21s\u001b[0m\n"
     ]
    },
    {
     "name": "stdout",
     "output_type": "stream",
     "text": [
      "Answer: Based on the provided documents, Trump did not call Liberation Day. The documents state that Bill Cottrell was the first Black player to be considered for the center position in the NFL, and that this occurred in the 1960s.\n",
      "\n",
      "Sources:\n",
      "- s://www .newspapers.com/article/delaware-county-daily-times/169426233/) . Delaware County\n",
      "Daily Time...\n",
      "  Relevance: 0.05\n",
      "- (https://www .freep.com/story/sports/nﬂ/lions/2025/04/02/bill-cottrell-obituary-detroit-lions-nﬂ-ﬁrs...\n",
      "  Relevance: 0.05\n",
      "- 14. \"Lions' Joe Robb Out For Rest of Season\"  (https://www .newspapers.com/article/the-grand-rapids-...\n",
      "  Relevance: 0.03\n",
      "- Press  that \"In the 1960s in pro football, the positions up the middle – quarterback , center and mi...\n",
      "  Relevance: 0.00\n"
     ]
    }
   ],
   "source": [
    "# Send a query\n",
    "response = rag_alice.query(\n",
    "    to_email=bob_client,\n",
    "    prompt=\"Which day did Trump call Liberation Day?\",\n",
    "    model=models[0]\n",
    ")\n",
    "\n",
    "if response and not response.error:\n",
    "    print(f\"Answer: {response.answer}\")\n",
    "    print(\"\\nSources:\")\n",
    "    for source in response.sources:\n",
    "        print(f\"- {source['content'][:100]}...\")\n",
    "        if 'relevance' in source:\n",
    "            print(f\"  Relevance: {source['relevance']:.2f}\")\n",
    "else:\n",
    "    print(f\"Error: {response.error if response else 'No response'}\")"
   ]
  },
  {
   "cell_type": "code",
   "execution_count": null,
   "id": "d0dc06ca-f46f-43d7-9997-26f83f133f34",
   "metadata": {},
   "outputs": [],
   "source": []
  },
  {
   "cell_type": "code",
   "execution_count": null,
   "id": "ba8c6189-fbf1-4721-baf4-6049dc1b0c44",
   "metadata": {},
   "outputs": [],
   "source": []
  }
 ],
 "metadata": {
  "kernelspec": {
   "display_name": "Python 3 (ipykernel)",
   "language": "python",
   "name": "python3"
  },
  "language_info": {
   "codemirror_mode": {
    "name": "ipython",
    "version": 3
   },
   "file_extension": ".py",
   "mimetype": "text/x-python",
   "name": "python",
   "nbconvert_exporter": "python",
   "pygments_lexer": "ipython3",
   "version": "3.10.15"
  }
 },
 "nbformat": 4,
 "nbformat_minor": 5
}
